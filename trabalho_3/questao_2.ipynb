{
  "nbformat": 4,
  "nbformat_minor": 0,
  "metadata": {
    "colab": {
      "provenance": [],
      "authorship_tag": "ABX9TyOgWghVJ+shkIOFfSKRFStE",
      "include_colab_link": true
    },
    "kernelspec": {
      "name": "python3",
      "display_name": "Python 3"
    },
    "language_info": {
      "name": "python"
    }
  },
  "cells": [
    {
      "cell_type": "markdown",
      "metadata": {
        "id": "view-in-github",
        "colab_type": "text"
      },
      "source": [
        "<a href=\"https://colab.research.google.com/github/luizrenault/tp547/blob/main/trabalho_3/questao_2.ipynb\" target=\"_parent\"><img src=\"https://colab.research.google.com/assets/colab-badge.svg\" alt=\"Open In Colab\"/></a>"
      ]
    },
    {
      "cell_type": "code",
      "execution_count": 14,
      "metadata": {
        "colab": {
          "base_uri": "https://localhost:8080/"
        },
        "id": "9cPt34vG9Wor",
        "outputId": "087cf91d-f314-4f54-edf7-4b8ff20e6e13"
      },
      "outputs": [
        {
          "output_type": "stream",
          "name": "stdout",
          "text": [
            "2 questão: c) a probabilidade analítica é: 0.147\n",
            "2 questão: c) a probabilidade calculada por simulação é: 0.1496\n",
            "2 questao: d) o número médio de passos para absorção é: 3.3061\n",
            "2 questao: e) a probabilidade de ser absorvido é de 0.3 para os estados 1 e 2\n"
          ]
        }
      ],
      "source": [
        "import numpy as np\n",
        "from numpy.linalg import matrix_power\n",
        "\n",
        "pi = np.array([0, 1, 0, 0])\n",
        "\n",
        "M=np.array([[1, 0, 0, 0],\n",
        "   [0.3, 0.4, 0.3, 0],\n",
        "   [0, 0.3, 0.4, 0.3],\n",
        "   [0, 0, 0, 1]])\n",
        "\n",
        "p1=np.dot(pi, M)\n",
        "p1[0] = 0\n",
        "p1[3] = 0\n",
        "\n",
        "p2=np.dot(p1, M)\n",
        "p2[0] = 0\n",
        "p2[3] = 0\n",
        "\n",
        "p3=np.dot(p2, M)\n",
        "\n",
        "p = (p3[0] + p3[3])\n",
        "print(f\"2 questão: c) a probabilidade analítica é: {p}\")\n",
        "\n",
        "def transicao(distribuicao):\n",
        "    acumulada = np.cumsum(distribuicao)\n",
        "    r = np.random.uniform(0, 1)\n",
        "    return np.argmax(acumulada > r)\n",
        "\n",
        "n=3\n",
        "m=10000\n",
        "\n",
        "transicoes = np.zeros(m, int)\n",
        "\n",
        "for k in np.arange(0,m,1):\n",
        "  estado = 1\n",
        "  j=0\n",
        "  while(estado!=0 and estado!=3):\n",
        "    estado = transicao(M[estado])\n",
        "    j = j + 1\n",
        "\n",
        "  transicoes[k]=j\n",
        "\n",
        "print(f\"2 questão: c) a probabilidade calculada por simulação é: {sum(transicoes==3)/m}\")\n",
        "print(f\"2 questao: d) o número médio de passos para absorção é: {np.mean(transicoes)}\")\n",
        "print(f\"2 questao: e) a probabilidade de ser absorvido é de 0.3 para os estados 1 e 2\")\n",
        "\n"
      ]
    }
  ]
}