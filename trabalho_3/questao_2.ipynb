{
  "nbformat": 4,
  "nbformat_minor": 0,
  "metadata": {
    "colab": {
      "provenance": [],
      "authorship_tag": "ABX9TyM0yNuUHjelwjDUJrzxSvO9",
      "include_colab_link": true
    },
    "kernelspec": {
      "name": "python3",
      "display_name": "Python 3"
    },
    "language_info": {
      "name": "python"
    }
  },
  "cells": [
    {
      "cell_type": "markdown",
      "metadata": {
        "id": "view-in-github",
        "colab_type": "text"
      },
      "source": [
        "<a href=\"https://colab.research.google.com/github/luizrenault/tp547/blob/main/trabalho_3/questao_2.ipynb\" target=\"_parent\"><img src=\"https://colab.research.google.com/assets/colab-badge.svg\" alt=\"Open In Colab\"/></a>"
      ]
    },
    {
      "cell_type": "code",
      "execution_count": 70,
      "metadata": {
        "colab": {
          "base_uri": "https://localhost:8080/",
          "height": 455
        },
        "id": "9cPt34vG9Wor",
        "outputId": "2ae35bef-7505-4fda-f063-045c0ed85881"
      },
      "outputs": [
        {
          "output_type": "stream",
          "name": "stdout",
          "text": [
            "[0.3 0.4 0.3 0. ]\n",
            "[0.12 0.25 0.24 0.09]\n",
            "[0.075 0.172 0.171 0.162]\n",
            "2 questão: c) a probabilidade analítica é: 0.237\n",
            "2 questão: c) a probabilidade calculada por simulação é: 0.0\n"
          ]
        },
        {
          "output_type": "error",
          "ename": "KeyboardInterrupt",
          "evalue": "",
          "traceback": [
            "\u001b[0;31m---------------------------------------------------------------------------\u001b[0m",
            "\u001b[0;31mKeyboardInterrupt\u001b[0m                         Traceback (most recent call last)",
            "\u001b[0;32m<ipython-input-70-56e44c4d382f>\u001b[0m in \u001b[0;36m<cell line: 54>\u001b[0;34m()\u001b[0m\n\u001b[1;32m     56\u001b[0m   \u001b[0mj\u001b[0m\u001b[0;34m=\u001b[0m\u001b[0;36m0\u001b[0m\u001b[0;34m\u001b[0m\u001b[0;34m\u001b[0m\u001b[0m\n\u001b[1;32m     57\u001b[0m   \u001b[0;32mwhile\u001b[0m\u001b[0;34m(\u001b[0m\u001b[0mestado\u001b[0m\u001b[0;34m!=\u001b[0m\u001b[0;36m0\u001b[0m\u001b[0;34m)\u001b[0m\u001b[0;34m:\u001b[0m\u001b[0;34m\u001b[0m\u001b[0;34m\u001b[0m\u001b[0m\n\u001b[0;32m---> 58\u001b[0;31m     \u001b[0mestado\u001b[0m \u001b[0;34m=\u001b[0m \u001b[0mtransicao\u001b[0m\u001b[0;34m(\u001b[0m\u001b[0mM\u001b[0m\u001b[0;34m[\u001b[0m\u001b[0mestado\u001b[0m\u001b[0;34m]\u001b[0m\u001b[0;34m)\u001b[0m\u001b[0;34m\u001b[0m\u001b[0;34m\u001b[0m\u001b[0m\n\u001b[0m\u001b[1;32m     59\u001b[0m     \u001b[0mj\u001b[0m \u001b[0;34m=\u001b[0m \u001b[0mj\u001b[0m \u001b[0;34m+\u001b[0m \u001b[0;36m1\u001b[0m\u001b[0;34m\u001b[0m\u001b[0;34m\u001b[0m\u001b[0m\n\u001b[1;32m     60\u001b[0m \u001b[0;34m\u001b[0m\u001b[0m\n",
            "\u001b[0;32m<ipython-input-70-56e44c4d382f>\u001b[0m in \u001b[0;36mtransicao\u001b[0;34m(distribuicao)\u001b[0m\n\u001b[1;32m     28\u001b[0m     \u001b[0macumulada\u001b[0m \u001b[0;34m=\u001b[0m \u001b[0mnp\u001b[0m\u001b[0;34m.\u001b[0m\u001b[0mcumsum\u001b[0m\u001b[0;34m(\u001b[0m\u001b[0mdistribuicao\u001b[0m\u001b[0;34m)\u001b[0m\u001b[0;34m\u001b[0m\u001b[0;34m\u001b[0m\u001b[0m\n\u001b[1;32m     29\u001b[0m     \u001b[0mr\u001b[0m \u001b[0;34m=\u001b[0m \u001b[0mnp\u001b[0m\u001b[0;34m.\u001b[0m\u001b[0mrandom\u001b[0m\u001b[0;34m.\u001b[0m\u001b[0muniform\u001b[0m\u001b[0;34m(\u001b[0m\u001b[0;36m0\u001b[0m\u001b[0;34m,\u001b[0m \u001b[0;36m1\u001b[0m\u001b[0;34m)\u001b[0m\u001b[0;34m\u001b[0m\u001b[0;34m\u001b[0m\u001b[0m\n\u001b[0;32m---> 30\u001b[0;31m     \u001b[0;32mreturn\u001b[0m \u001b[0mnp\u001b[0m\u001b[0;34m.\u001b[0m\u001b[0margmax\u001b[0m\u001b[0;34m(\u001b[0m\u001b[0macumulada\u001b[0m \u001b[0;34m>\u001b[0m \u001b[0mr\u001b[0m\u001b[0;34m)\u001b[0m\u001b[0;34m\u001b[0m\u001b[0;34m\u001b[0m\u001b[0m\n\u001b[0m\u001b[1;32m     31\u001b[0m \u001b[0;34m\u001b[0m\u001b[0m\n\u001b[1;32m     32\u001b[0m \u001b[0mn\u001b[0m\u001b[0;34m=\u001b[0m\u001b[0;36m3\u001b[0m\u001b[0;34m\u001b[0m\u001b[0;34m\u001b[0m\u001b[0m\n",
            "\u001b[0;32m/usr/local/lib/python3.10/dist-packages/numpy/core/fromnumeric.py\u001b[0m in \u001b[0;36m_argmax_dispatcher\u001b[0;34m(a, axis, out, keepdims)\u001b[0m\n\u001b[1;32m   1134\u001b[0m \u001b[0;34m\u001b[0m\u001b[0m\n\u001b[1;32m   1135\u001b[0m \u001b[0;34m\u001b[0m\u001b[0m\n\u001b[0;32m-> 1136\u001b[0;31m \u001b[0;32mdef\u001b[0m \u001b[0m_argmax_dispatcher\u001b[0m\u001b[0;34m(\u001b[0m\u001b[0ma\u001b[0m\u001b[0;34m,\u001b[0m \u001b[0maxis\u001b[0m\u001b[0;34m=\u001b[0m\u001b[0;32mNone\u001b[0m\u001b[0;34m,\u001b[0m \u001b[0mout\u001b[0m\u001b[0;34m=\u001b[0m\u001b[0;32mNone\u001b[0m\u001b[0;34m,\u001b[0m \u001b[0;34m*\u001b[0m\u001b[0;34m,\u001b[0m \u001b[0mkeepdims\u001b[0m\u001b[0;34m=\u001b[0m\u001b[0mnp\u001b[0m\u001b[0;34m.\u001b[0m\u001b[0m_NoValue\u001b[0m\u001b[0;34m)\u001b[0m\u001b[0;34m:\u001b[0m\u001b[0;34m\u001b[0m\u001b[0;34m\u001b[0m\u001b[0m\n\u001b[0m\u001b[1;32m   1137\u001b[0m     \u001b[0;32mreturn\u001b[0m \u001b[0;34m(\u001b[0m\u001b[0ma\u001b[0m\u001b[0;34m,\u001b[0m \u001b[0mout\u001b[0m\u001b[0;34m)\u001b[0m\u001b[0;34m\u001b[0m\u001b[0;34m\u001b[0m\u001b[0m\n\u001b[1;32m   1138\u001b[0m \u001b[0;34m\u001b[0m\u001b[0m\n",
            "\u001b[0;31mKeyboardInterrupt\u001b[0m: "
          ]
        }
      ],
      "source": [
        "import numpy as np\n",
        "from numpy.linalg import matrix_power\n",
        "\n",
        "pi = np.array([0, 1, 0, 0])\n",
        "\n",
        "M=np.array([[1, 0, 0, 0],\n",
        "   [0.3, 0.4, 0.3, 0],\n",
        "   [0, 0.3, 0.4, 0.3],\n",
        "   [0, 0, 0, 1]])\n",
        "\n",
        "p1=np.dot(pi, M)\n",
        "print(p1)\n",
        "p1[0] = 0\n",
        "p1[3] = 0\n",
        "\n",
        "p2=np.dot(p1, M)\n",
        "print(p2)\n",
        "p2[0] = 0\n",
        "p3[3] = 0\n",
        "\n",
        "p3=np.dot(p2, M)\n",
        "print(p3)\n",
        "\n",
        "p = (p3[0] + p3[3])\n",
        "print(f\"2 questão: c) a probabilidade analítica é: {p}\")\n",
        "\n",
        "def transicao(distribuicao):\n",
        "    acumulada = np.cumsum(distribuicao)\n",
        "    r = np.random.uniform(0, 1)\n",
        "    return np.argmax(acumulada > r)\n",
        "\n",
        "n=3\n",
        "m=10000\n",
        "\n",
        "estados = np.zeros(n+1, int)\n",
        "estados[0]=0\n",
        "\n",
        "estados_finais = np.zeros(m, int)\n",
        "\n",
        "transicoes = np.zeros(m, int)\n",
        "\n",
        "for k in np.arange(0,m,1):\n",
        "  for j in np.arange(1, n+1, 1):\n",
        "      estados[j]=transicao(M[estados[j-1]])\n",
        "  estados_finais[k]=estados[n]\n",
        "\n",
        "p=sum(estados_finais==5)/m\n",
        "\n",
        "print(f\"2 questão: c) a probabilidade calculada por simulação é: {p}\")\n",
        "\n",
        "\n",
        "###################\n",
        "\n",
        "for k in np.arange(0,m,1):\n",
        "  estado = 1\n",
        "  j=0\n",
        "  while(estado!=0):\n",
        "    estado = transicao(M[estado])\n",
        "    j = j + 1\n",
        "\n",
        "  transicoes[k]=j\n",
        "\n",
        "print(f\"2 questao: d) o número médio de passos para absorção é: {np.mean(transicoes)}\")"
      ]
    }
  ]
}