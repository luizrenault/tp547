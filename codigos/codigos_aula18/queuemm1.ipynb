{
  "nbformat": 4,
  "nbformat_minor": 0,
  "metadata": {
    "colab": {
      "provenance": [],
      "include_colab_link": true
    },
    "kernelspec": {
      "name": "python3",
      "display_name": "Python 3"
    },
    "language_info": {
      "name": "python"
    }
  },
  "cells": [
    {
      "cell_type": "markdown",
      "metadata": {
        "id": "view-in-github",
        "colab_type": "text"
      },
      "source": [
        "<a href=\"https://colab.research.google.com/github/luizrenault/tp547/blob/main/codigos/codigos_aula18/queuemm1.ipynb\" target=\"_parent\"><img src=\"https://colab.research.google.com/assets/colab-badge.svg\" alt=\"Open In Colab\"/></a>"
      ]
    },
    {
      "cell_type": "code",
      "source": [
        "!pip install numpy\n",
        "!pip install matplotlib"
      ],
      "metadata": {
        "id": "EpHnMWG7JgvI",
        "outputId": "a47f649b-c11c-47a4-b95a-4b5bd5872895",
        "colab": {
          "base_uri": "https://localhost:8080/"
        }
      },
      "execution_count": 2,
      "outputs": [
        {
          "output_type": "stream",
          "name": "stdout",
          "text": [
            "Requirement already satisfied: numpy in /usr/local/lib/python3.10/dist-packages (1.25.2)\n",
            "Requirement already satisfied: matplotlib in /usr/local/lib/python3.10/dist-packages (3.7.1)\n",
            "Requirement already satisfied: contourpy>=1.0.1 in /usr/local/lib/python3.10/dist-packages (from matplotlib) (1.2.1)\n",
            "Requirement already satisfied: cycler>=0.10 in /usr/local/lib/python3.10/dist-packages (from matplotlib) (0.12.1)\n",
            "Requirement already satisfied: fonttools>=4.22.0 in /usr/local/lib/python3.10/dist-packages (from matplotlib) (4.53.0)\n",
            "Requirement already satisfied: kiwisolver>=1.0.1 in /usr/local/lib/python3.10/dist-packages (from matplotlib) (1.4.5)\n",
            "Requirement already satisfied: numpy>=1.20 in /usr/local/lib/python3.10/dist-packages (from matplotlib) (1.25.2)\n",
            "Requirement already satisfied: packaging>=20.0 in /usr/local/lib/python3.10/dist-packages (from matplotlib) (24.0)\n",
            "Requirement already satisfied: pillow>=6.2.0 in /usr/local/lib/python3.10/dist-packages (from matplotlib) (9.4.0)\n",
            "Requirement already satisfied: pyparsing>=2.3.1 in /usr/local/lib/python3.10/dist-packages (from matplotlib) (3.1.2)\n",
            "Requirement already satisfied: python-dateutil>=2.7 in /usr/local/lib/python3.10/dist-packages (from matplotlib) (2.8.2)\n",
            "Requirement already satisfied: six>=1.5 in /usr/local/lib/python3.10/dist-packages (from python-dateutil>=2.7->matplotlib) (1.16.0)\n"
          ]
        }
      ]
    },
    {
      "cell_type": "code",
      "execution_count": 17,
      "metadata": {
        "id": "q7OinFtJJexC",
        "outputId": "ee8fe922-0c3f-4a50-a6fc-418e69fa9c66",
        "colab": {
          "base_uri": "https://localhost:8080/"
        }
      },
      "outputs": [
        {
          "output_type": "stream",
          "name": "stdout",
          "text": [
            "fator de utilizacao rho: 0.8\n",
            "tempo no sistema: 0.011482661321679008\n",
            "tempo na fila: 0.007482661321679008\n",
            "numero medio de pacotes no sistema: 2.2965322643358017\n",
            "numero medio de pacotes na fila: 1.4965322643358017\n",
            "probabilidade de bloqueios: 0.06555660278563201\n",
            "bloqueios: 13146\n",
            "chegadas: 200529\n",
            "fila: 4\n",
            "entrada sv: 187379\n",
            "partidas: 187379\n"
          ]
        }
      ],
      "source": [
        "import numpy as np\n",
        "import matplotlib.pyplot as plt\n",
        "t = 0 #tempo inicial\n",
        "lq = 0 #numero de elementos na fila\n",
        "ls = 1 #numero de elementos no servidor\n",
        "k1 = 0 #variavel auxiliar\n",
        "k2 = 0 #variavel auxiliar\n",
        "k = 0 #numero de partidas\n",
        "b = 0 #numero de bloqueios\n",
        "\n",
        "N=10000\n",
        "TS=1000\n",
        "\n",
        "lambda1=200 #pc/s taxa media de chegada\n",
        "mu1=256000 / 8 / 128 #pc/s taxa media de partida\n",
        "Nq=5 #tamanho da fila\n",
        "\n",
        "def chegada():\n",
        "  return np.random.exponential(1/lambda1)\n",
        "\n",
        "def partida():\n",
        "  return np.random.exponential(1/mu1)\n",
        "\n",
        "tc = [0] #tempo de chegadas\n",
        "tp = [] #tempo de partidas\n",
        "ts = [] #tempo no sistema\n",
        "\n",
        "ta = t + chegada() #proxima chegada\n",
        "td = t + partida() #proxima partida\n",
        "t = np.minimum(ta, td) #proximo tempo de execucao\n",
        "\n",
        "while (t < TS): #tempo limite de simulacao\n",
        "\n",
        "    if ta<td: #evento de chegada\n",
        "        k1 = k1 + 1\n",
        "        ta = t + chegada() #gera nova chegada\n",
        "        if ls == 1: #servidor ocupado\n",
        "            if lq < Nq:\n",
        "                lq = lq + 1 #aumenta a fila\n",
        "                tc = np.append(tc, t) #aramazena tempo atual de chegada\n",
        "            else:\n",
        "                b = b + 1\n",
        "        else: #servidor desocupado\n",
        "            ls = 1 #ocupa o servidor\n",
        "            k2 = k2 + 1\n",
        "            td = t + partida() #gera nova partida\n",
        "            tc = np.append(tc, t) #aramazena tempo atual de chegada\n",
        "    else: #evento de partida\n",
        "        k = k + 1 #incrementa o numero de partidas\n",
        "\n",
        "        tp = np.append(tp, t) #armazeno o tempo da partida\n",
        "        ts = np.append(ts, (tp[k - 1] - tc[k - 1])) #calculo o tempo no sistema\n",
        "\n",
        "        if lq > 0:#existem pacotes na fila\n",
        "            lq = lq - 1 #diminuo a fila em 1\n",
        "            td = t + partida() #calculo a proxima partida\n",
        "            k2 = k2 + 1\n",
        "        else: #nao ha pacotes na fila\n",
        "            td = np.infty #coloco um valor muito grande para a proxima partida\n",
        "            ls = 0 #esvazio o servidor\n",
        "\n",
        "    t = np.minimum(ta, td) #calculo o tempo minimo entre chegada e partida\n",
        "\n",
        "tw=np.mean(ts)-1/mu1\n",
        "eq=lambda1*np.mean(ts)\n",
        "ew=lambda1*tw\n",
        "rho=lambda1/mu1\n",
        "pb = b/k1\n",
        "\n",
        "print(f\"fator de utilizacao rho: {rho}\")\n",
        "print(f\"tempo no sistema: {np.mean(ts)}\")\n",
        "print(f\"tempo na fila: {tw}\")\n",
        "print(f\"numero medio de pacotes no sistema: {eq}\")\n",
        "print(f\"numero medio de pacotes na fila: {ew}\")\n",
        "print(f\"probabilidade de bloqueios: {pb}\")\n",
        "print(f\"bloqueios: {b}\")\n",
        "print(f\"chegadas: {k1}\")\n",
        "print(f\"fila: {lq}\")\n",
        "print(f\"entrada sv: {k2}\")\n",
        "print(f\"partidas: {k}\")"
      ]
    }
  ]
}