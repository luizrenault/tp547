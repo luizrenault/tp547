{
  "nbformat": 4,
  "nbformat_minor": 0,
  "metadata": {
    "colab": {
      "provenance": []
    },
    "kernelspec": {
      "name": "python3",
      "display_name": "Python 3"
    },
    "language_info": {
      "name": "python"
    }
  },
  "cells": [
    {
      "cell_type": "code",
      "execution_count": null,
      "metadata": {
        "id": "UinCIGjWhQy3"
      },
      "outputs": [],
      "source": [
        "!pip install numpy"
      ]
    },
    {
      "cell_type": "code",
      "source": [
        "import numpy as np\n",
        "\n",
        "\n",
        "\n",
        "lambda1=6 #Número médio de requisições\n",
        "N=1000000 #Numero de amostras\n",
        "value=0\n",
        "count=0\n",
        "av=np.array([])\n",
        "x=np.random.uniform(0,1,N)\n",
        "for ix in x:\n",
        "    i = 0\n",
        "    pr = np.exp(-lambda1)\n",
        "    F=pr\n",
        "    while ix>=F:\n",
        "        pr=lambda1/(i+1)*pr\n",
        "        F = F + pr\n",
        "        i = i + 1;\n",
        "    a1=i\n",
        "    if i==value:\n",
        "      count = count + 1\n",
        "    #av=np.append(av,a1)\n",
        "\n",
        "#print(sum(av==0)/N)\n",
        "print(count/N)"
      ],
      "metadata": {
        "id": "cVTRKAQChRyg",
        "outputId": "b083f061-7a71-4ded-ad12-19e20f77f6e7",
        "colab": {
          "base_uri": "https://localhost:8080/"
        }
      },
      "execution_count": 23,
      "outputs": [
        {
          "output_type": "stream",
          "name": "stdout",
          "text": [
            "0.002435\n"
          ]
        }
      ]
    }
  ]
}