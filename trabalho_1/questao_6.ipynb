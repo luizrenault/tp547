{
  "nbformat": 4,
  "nbformat_minor": 0,
  "metadata": {
    "colab": {
      "provenance": []
    },
    "kernelspec": {
      "name": "python3",
      "display_name": "Python 3"
    },
    "language_info": {
      "name": "python"
    }
  },
  "cells": [
    {
      "cell_type": "code",
      "execution_count": 33,
      "metadata": {
        "id": "UinCIGjWhQy3",
        "colab": {
          "base_uri": "https://localhost:8080/"
        },
        "outputId": "22f2566f-881b-4fd8-a9e2-dcc1f16172d9"
      },
      "outputs": [
        {
          "output_type": "stream",
          "name": "stdout",
          "text": [
            "Requirement already satisfied: numpy in /usr/local/lib/python3.10/dist-packages (1.25.2)\n"
          ]
        }
      ],
      "source": [
        "!pip install numpy"
      ]
    },
    {
      "cell_type": "code",
      "source": [
        "import numpy as np\n",
        "import matplotlib.pyplot as plt\n",
        "\n",
        "\n",
        "N=1000000\n",
        "p=0.6\n",
        "x=np.random.uniform(0,1,N)\n",
        "value=6\n",
        "Xgeo=np.floor(np.log(x)/np.log(1-p)) + 1\n",
        "\n",
        "count=sum(Xgeo==value)\n",
        "print(Xgeo)\n",
        "\n",
        "prob=count/N\n",
        "print(\"a probabilidade e\",prob)\n",
        "\n",
        "plt.show()"
      ],
      "metadata": {
        "id": "cVTRKAQChRyg",
        "colab": {
          "base_uri": "https://localhost:8080/"
        },
        "outputId": "2ae926c5-3468-45cc-ae33-cea297d46bf6"
      },
      "execution_count": 47,
      "outputs": [
        {
          "output_type": "stream",
          "name": "stdout",
          "text": [
            "[2. 1. 3. ... 2. 1. 1.]\n",
            "a probabilidade e 0.006199\n"
          ]
        }
      ]
    }
  ]
}