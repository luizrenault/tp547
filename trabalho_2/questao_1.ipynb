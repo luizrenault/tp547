{
  "nbformat": 4,
  "nbformat_minor": 0,
  "metadata": {
    "colab": {
      "provenance": [],
      "include_colab_link": true
    },
    "kernelspec": {
      "name": "python3",
      "display_name": "Python 3"
    },
    "language_info": {
      "name": "python"
    }
  },
  "cells": [
    {
      "cell_type": "markdown",
      "metadata": {
        "id": "view-in-github",
        "colab_type": "text"
      },
      "source": [
        "<a href=\"https://colab.research.google.com/github/luizrenault/tp547/blob/main/trabalho_2/questao_1.ipynb\" target=\"_parent\"><img src=\"https://colab.research.google.com/assets/colab-badge.svg\" alt=\"Open In Colab\"/></a>"
      ]
    },
    {
      "cell_type": "code",
      "execution_count": 8,
      "metadata": {
        "id": "J_G_EITDf9j-",
        "colab": {
          "base_uri": "https://localhost:8080/"
        },
        "outputId": "559e56d9-9179-4e09-aa41-e246f74733e0"
      },
      "outputs": [
        {
          "output_type": "stream",
          "name": "stdout",
          "text": [
            "Requirement already satisfied: numpy in /usr/local/lib/python3.10/dist-packages (1.25.2)\n",
            "Requirement already satisfied: matplotlib in /usr/local/lib/python3.10/dist-packages (3.7.1)\n",
            "Requirement already satisfied: contourpy>=1.0.1 in /usr/local/lib/python3.10/dist-packages (from matplotlib) (1.2.1)\n",
            "Requirement already satisfied: cycler>=0.10 in /usr/local/lib/python3.10/dist-packages (from matplotlib) (0.12.1)\n",
            "Requirement already satisfied: fonttools>=4.22.0 in /usr/local/lib/python3.10/dist-packages (from matplotlib) (4.50.0)\n",
            "Requirement already satisfied: kiwisolver>=1.0.1 in /usr/local/lib/python3.10/dist-packages (from matplotlib) (1.4.5)\n",
            "Requirement already satisfied: numpy>=1.20 in /usr/local/lib/python3.10/dist-packages (from matplotlib) (1.25.2)\n",
            "Requirement already satisfied: packaging>=20.0 in /usr/local/lib/python3.10/dist-packages (from matplotlib) (24.0)\n",
            "Requirement already satisfied: pillow>=6.2.0 in /usr/local/lib/python3.10/dist-packages (from matplotlib) (9.4.0)\n",
            "Requirement already satisfied: pyparsing>=2.3.1 in /usr/local/lib/python3.10/dist-packages (from matplotlib) (3.1.2)\n",
            "Requirement already satisfied: python-dateutil>=2.7 in /usr/local/lib/python3.10/dist-packages (from matplotlib) (2.8.2)\n",
            "Requirement already satisfied: six>=1.5 in /usr/local/lib/python3.10/dist-packages (from python-dateutil>=2.7->matplotlib) (1.16.0)\n"
          ]
        }
      ],
      "source": [
        "!pip install numpy\n",
        "!pip install matplotlib\n",
        "\n"
      ]
    },
    {
      "cell_type": "code",
      "source": [
        "import numpy as np\n",
        "import matplotlib.pyplot as plt\n",
        "import scipy\n",
        "\n",
        "\n",
        "m=10000\n",
        "n=np.random.multinomial(10, [0.25]*4, m) #geração de m amostras seguindo a lei multinomial\n",
        "\n",
        "print(n)\n",
        "\n",
        "P=sum((n[:, 0:2:1] == [2,2]).sum(1) == 2) / m #contando em quantas amostras ocorreu o resultado desejado\n",
        "\n",
        "print(\"Frequência relativa simulada: %f\" % P)\n",
        "\n",
        "\n",
        "#Cálculo analítico multinomial\n",
        "vec=np.array(range(0, 6))\n",
        "p = sum(scipy.special.factorial(10) / (scipy.special.factorial(2) * scipy.special.factorial(2) * scipy.special.factorial(vec)  * scipy.special.factorial(6-vec)) * 0.25**10)\n",
        "print(\"Probabilidade analítica: %f\" % p)\n",
        "\n",
        "\n"
      ],
      "metadata": {
        "colab": {
          "base_uri": "https://localhost:8080/"
        },
        "id": "cKf5j4VJh4eV",
        "outputId": "c9031354-ad1f-40c1-f531-21aa15f2b82f"
      },
      "execution_count": 75,
      "outputs": [
        {
          "output_type": "stream",
          "name": "stdout",
          "text": [
            "[[5 2 1 2]\n",
            " [2 3 0 5]\n",
            " [3 1 5 1]\n",
            " ...\n",
            " [4 1 2 3]\n",
            " [2 4 3 1]\n",
            " [6 0 2 2]]\n",
            "Frequência relativa simulada: 0.075700\n",
            "Probabilidade analítica: 0.075703\n"
          ]
        }
      ]
    }
  ]
}