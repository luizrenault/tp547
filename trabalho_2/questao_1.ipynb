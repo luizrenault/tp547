{
  "nbformat": 4,
  "nbformat_minor": 0,
  "metadata": {
    "colab": {
      "provenance": [],
      "include_colab_link": true
    },
    "kernelspec": {
      "name": "python3",
      "display_name": "Python 3"
    },
    "language_info": {
      "name": "python"
    }
  },
  "cells": [
    {
      "cell_type": "markdown",
      "metadata": {
        "id": "view-in-github",
        "colab_type": "text"
      },
      "source": [
        "<a href=\"https://colab.research.google.com/github/luizrenault/tp547/blob/main/trabalho_2/questao_1.ipynb\" target=\"_parent\"><img src=\"https://colab.research.google.com/assets/colab-badge.svg\" alt=\"Open In Colab\"/></a>"
      ]
    },
    {
      "cell_type": "code",
      "execution_count": null,
      "metadata": {
        "id": "J_G_EITDf9j-",
        "colab": {
          "base_uri": "https://localhost:8080/"
        },
        "outputId": "559e56d9-9179-4e09-aa41-e246f74733e0"
      },
      "outputs": [
        {
          "output_type": "stream",
          "name": "stdout",
          "text": [
            "Requirement already satisfied: numpy in /usr/local/lib/python3.10/dist-packages (1.25.2)\n",
            "Requirement already satisfied: matplotlib in /usr/local/lib/python3.10/dist-packages (3.7.1)\n",
            "Requirement already satisfied: contourpy>=1.0.1 in /usr/local/lib/python3.10/dist-packages (from matplotlib) (1.2.1)\n",
            "Requirement already satisfied: cycler>=0.10 in /usr/local/lib/python3.10/dist-packages (from matplotlib) (0.12.1)\n",
            "Requirement already satisfied: fonttools>=4.22.0 in /usr/local/lib/python3.10/dist-packages (from matplotlib) (4.50.0)\n",
            "Requirement already satisfied: kiwisolver>=1.0.1 in /usr/local/lib/python3.10/dist-packages (from matplotlib) (1.4.5)\n",
            "Requirement already satisfied: numpy>=1.20 in /usr/local/lib/python3.10/dist-packages (from matplotlib) (1.25.2)\n",
            "Requirement already satisfied: packaging>=20.0 in /usr/local/lib/python3.10/dist-packages (from matplotlib) (24.0)\n",
            "Requirement already satisfied: pillow>=6.2.0 in /usr/local/lib/python3.10/dist-packages (from matplotlib) (9.4.0)\n",
            "Requirement already satisfied: pyparsing>=2.3.1 in /usr/local/lib/python3.10/dist-packages (from matplotlib) (3.1.2)\n",
            "Requirement already satisfied: python-dateutil>=2.7 in /usr/local/lib/python3.10/dist-packages (from matplotlib) (2.8.2)\n",
            "Requirement already satisfied: six>=1.5 in /usr/local/lib/python3.10/dist-packages (from python-dateutil>=2.7->matplotlib) (1.16.0)\n"
          ]
        }
      ],
      "source": [
        "!pip install numpy\n",
        "!pip install matplotlib\n",
        "\n"
      ]
    },
    {
      "cell_type": "code",
      "source": [
        "import numpy as np\n",
        "import matplotlib.pyplot as plt\n",
        "import scipy\n",
        "import random\n",
        "\n",
        "def sem_reposicao(k, P, m):\n",
        "  A=np.random.uniform(0,1,k*m);\n",
        "  acum = 0\n",
        "  n = range(1, 1 + np.size(P))\n",
        "  A = np.reshape(A, (m,k))\n",
        "  ps = np.size(P)\n",
        "  r=np.zeros((m,ps))\n",
        "  a=np.zeros((m, k))\n",
        "\n",
        "  for i in range(m):\n",
        "    PP=np.array(P)\n",
        "    for j in range(k):\n",
        "      ii=1\n",
        "      acum=0\n",
        "      PPP = np.array(PP)/sum(PP)\n",
        "      for ppp in PPP:\n",
        "        if A[i,j]>=acum and A[i,j]<(acum+ppp) :\n",
        "          a[i,j]=ii\n",
        "          PP[ii-1]-=1\n",
        "          r[i,ii-1]+=1\n",
        "          break\n",
        "        acum+=ppp\n",
        "        ii+=1\n",
        "  #print(a)\n",
        "  #print(r)\n",
        "  return r\n",
        "\n",
        "def multinomial(k, P, m):\n",
        "  A=np.random.uniform(0,1,k*m);\n",
        "  acum = 0\n",
        "  i=0\n",
        "  n = range(1, 1 + np.size(P))\n",
        "  A = np.reshape(A, (m,k))\n",
        "  a = np.zeros_like(A)\n",
        "  r=np.array([])\n",
        "\n",
        "  for p in P:\n",
        "    b=np.array(np.array(A>=acum) * np.array(A<(acum+p)))\n",
        "    a+=b * n[i]\n",
        "\n",
        "    c=b.sum(1)\n",
        "    r=np.append(r, c)\n",
        "    acum+=p\n",
        "    i+=1\n",
        "  r=np.transpose(np.reshape(r, (np.size(P),m)))\n",
        "  #print(a)\n",
        "  #print(r)\n",
        "  return r\n",
        "\n",
        "\n",
        "m=10000\n",
        "n=multinomial(10, [0.25]*4, m) #geração de m amostras seguindo a lei multinomial\n",
        "\n",
        "print(n)\n",
        "\n",
        "P=sum((n[:, 0:2:1] == [2,2]).sum(1) == 2) / m #contando em quantas amostras ocorreu o resultado desejado\n",
        "\n",
        "print(\"Frequência relativa simulada: %f\" % P)\n",
        "\n",
        "\n",
        "#Cálculo analítico multinomial\n",
        "vec=np.array(range(0, 6))\n",
        "p = sum(scipy.special.factorial(10) / (scipy.special.factorial(2) * scipy.special.factorial(2) * scipy.special.factorial(vec)  * scipy.special.factorial(6-vec)) * 0.25**10)\n",
        "print(\"Probabilidade analítica: %f\" % p)\n",
        "\n",
        "######## Para o experimento sem reposição\n",
        "\n",
        "vec = np.reshape([[1]*10, [2]*10, [3]*10, [4]*10],40)\n",
        "#print(vec)\n",
        "\n",
        "s=0\n",
        "\n",
        "n=sem_reposicao(10, [10]*4, m)\n",
        "print(n)\n",
        "P=sum((n[:, 0:2:1] == [2,2]).sum(1) == 2) / m #contando em quantas amostras ocorreu o resultado desejado\n",
        "\n",
        "print(\"Probabilidade para o experimento sem reposição é: %f\" % (P))\n",
        "print(\"Para o experimento sem reposição a probabilidade é maior.\")"
      ],
      "metadata": {
        "colab": {
          "base_uri": "https://localhost:8080/"
        },
        "id": "cKf5j4VJh4eV",
        "outputId": "6920b5d1-8a79-4896-ab40-d55be39b1fbf"
      },
      "execution_count": 124,
      "outputs": [
        {
          "output_type": "stream",
          "name": "stdout",
          "text": [
            "[[2. 4. 0. 4.]\n",
            " [3. 1. 3. 3.]\n",
            " [6. 1. 2. 1.]\n",
            " ...\n",
            " [4. 1. 1. 4.]\n",
            " [2. 2. 3. 3.]\n",
            " [2. 2. 2. 4.]]\n",
            "Frequência relativa simulada: 0.075100\n",
            "Probabilidade analítica: 0.075703\n",
            "[[2. 2. 5. 1.]\n",
            " [1. 4. 1. 4.]\n",
            " [0. 3. 3. 4.]\n",
            " ...\n",
            " [3. 2. 1. 4.]\n",
            " [3. 1. 3. 3.]\n",
            " [3. 1. 1. 5.]]\n",
            "Probabilidade para o experimento sem reposição é: 0.097400\n",
            "Para o experimento sem reposição a probabilidade é maior.\n"
          ]
        }
      ]
    }
  ]
}