{
  "nbformat": 4,
  "nbformat_minor": 0,
  "metadata": {
    "colab": {
      "provenance": [],
      "include_colab_link": true
    },
    "kernelspec": {
      "name": "python3",
      "display_name": "Python 3"
    },
    "language_info": {
      "name": "python"
    }
  },
  "cells": [
    {
      "cell_type": "markdown",
      "metadata": {
        "id": "view-in-github",
        "colab_type": "text"
      },
      "source": [
        "<a href=\"https://colab.research.google.com/github/luizrenault/tp547/blob/main/trabalho_2/questao_3.ipynb\" target=\"_parent\"><img src=\"https://colab.research.google.com/assets/colab-badge.svg\" alt=\"Open In Colab\"/></a>"
      ]
    },
    {
      "cell_type": "code",
      "execution_count": null,
      "metadata": {
        "id": "J_G_EITDf9j-",
        "colab": {
          "base_uri": "https://localhost:8080/"
        },
        "outputId": "559e56d9-9179-4e09-aa41-e246f74733e0"
      },
      "outputs": [
        {
          "output_type": "stream",
          "name": "stdout",
          "text": [
            "Requirement already satisfied: numpy in /usr/local/lib/python3.10/dist-packages (1.25.2)\n",
            "Requirement already satisfied: matplotlib in /usr/local/lib/python3.10/dist-packages (3.7.1)\n",
            "Requirement already satisfied: contourpy>=1.0.1 in /usr/local/lib/python3.10/dist-packages (from matplotlib) (1.2.1)\n",
            "Requirement already satisfied: cycler>=0.10 in /usr/local/lib/python3.10/dist-packages (from matplotlib) (0.12.1)\n",
            "Requirement already satisfied: fonttools>=4.22.0 in /usr/local/lib/python3.10/dist-packages (from matplotlib) (4.50.0)\n",
            "Requirement already satisfied: kiwisolver>=1.0.1 in /usr/local/lib/python3.10/dist-packages (from matplotlib) (1.4.5)\n",
            "Requirement already satisfied: numpy>=1.20 in /usr/local/lib/python3.10/dist-packages (from matplotlib) (1.25.2)\n",
            "Requirement already satisfied: packaging>=20.0 in /usr/local/lib/python3.10/dist-packages (from matplotlib) (24.0)\n",
            "Requirement already satisfied: pillow>=6.2.0 in /usr/local/lib/python3.10/dist-packages (from matplotlib) (9.4.0)\n",
            "Requirement already satisfied: pyparsing>=2.3.1 in /usr/local/lib/python3.10/dist-packages (from matplotlib) (3.1.2)\n",
            "Requirement already satisfied: python-dateutil>=2.7 in /usr/local/lib/python3.10/dist-packages (from matplotlib) (2.8.2)\n",
            "Requirement already satisfied: six>=1.5 in /usr/local/lib/python3.10/dist-packages (from python-dateutil>=2.7->matplotlib) (1.16.0)\n"
          ]
        }
      ],
      "source": [
        "!pip install numpy\n",
        "!pip install matplotlib\n",
        "\n"
      ]
    },
    {
      "cell_type": "code",
      "source": [
        "import numpy as np\n",
        "import matplotlib.pyplot as plt\n",
        "import scipy\n",
        "import random\n",
        "\n",
        "def multinomial(k, P, m):\n",
        "  A=np.random.uniform(0,1,k*m);\n",
        "  acum = 0\n",
        "  i=0\n",
        "  n = range(1, 1 + np.size(P))\n",
        "  A = np.reshape(A, (m,k))\n",
        "  a = np.zeros_like(A)\n",
        "  r=np.array([])\n",
        "\n",
        "  for p in P:\n",
        "    b=np.array(np.array(A>=acum) * np.array(A<(acum+p)))\n",
        "    a+=b * n[i]\n",
        "\n",
        "    c=b.sum(1)\n",
        "    r=np.append(r, c)\n",
        "    acum+=p\n",
        "    i+=1\n",
        "  r=np.transpose(np.reshape(r, (np.size(P),m)))\n",
        "  #print(a)\n",
        "  #print(r)\n",
        "  return a\n",
        "\n",
        "m=10000\n",
        "n=multinomial(4, [1/6]*6, m) #geração de m amostras seguindo a lei multinomial\n",
        "\n",
        "\n",
        "print(n)\n",
        "n=np.sum(n,1)\n",
        "\n",
        "prize = 9\n",
        "\n",
        "v = (np.array(n< prize) * 9 + np.array(n>= prize) * -1)\n",
        "v=sum(v)/m\n",
        "\n",
        "print(\"O ganho médio é: %f\" % v)\n",
        "\n"
      ],
      "metadata": {
        "colab": {
          "base_uri": "https://localhost:8080/"
        },
        "id": "cKf5j4VJh4eV",
        "outputId": "18493cbb-7669-4a83-df54-d8d37924e29a"
      },
      "execution_count": 22,
      "outputs": [
        {
          "output_type": "stream",
          "name": "stdout",
          "text": [
            "[[2. 5. 3. 5.]\n",
            " [1. 3. 3. 1.]\n",
            " [5. 5. 1. 6.]\n",
            " ...\n",
            " [2. 4. 4. 4.]\n",
            " [3. 2. 4. 4.]\n",
            " [5. 1. 5. 6.]]\n",
            "O ganho médio é: -0.483000\n"
          ]
        }
      ]
    }
  ]
}