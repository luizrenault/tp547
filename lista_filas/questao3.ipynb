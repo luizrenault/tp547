{
  "nbformat": 4,
  "nbformat_minor": 0,
  "metadata": {
    "colab": {
      "provenance": [],
      "include_colab_link": true
    },
    "kernelspec": {
      "name": "python3",
      "display_name": "Python 3"
    },
    "language_info": {
      "name": "python"
    }
  },
  "cells": [
    {
      "cell_type": "markdown",
      "metadata": {
        "id": "view-in-github",
        "colab_type": "text"
      },
      "source": [
        "<a href=\"https://colab.research.google.com/github/luizrenault/tp547/blob/main/lista_filas/questao3.ipynb\" target=\"_parent\"><img src=\"https://colab.research.google.com/assets/colab-badge.svg\" alt=\"Open In Colab\"/></a>"
      ]
    },
    {
      "cell_type": "code",
      "source": [
        "!pip install numpy\n",
        "!pip install matplotlib"
      ],
      "metadata": {
        "id": "EpHnMWG7JgvI",
        "outputId": "a47f649b-c11c-47a4-b95a-4b5bd5872895",
        "colab": {
          "base_uri": "https://localhost:8080/"
        }
      },
      "execution_count": null,
      "outputs": [
        {
          "output_type": "stream",
          "name": "stdout",
          "text": [
            "Requirement already satisfied: numpy in /usr/local/lib/python3.10/dist-packages (1.25.2)\n",
            "Requirement already satisfied: matplotlib in /usr/local/lib/python3.10/dist-packages (3.7.1)\n",
            "Requirement already satisfied: contourpy>=1.0.1 in /usr/local/lib/python3.10/dist-packages (from matplotlib) (1.2.1)\n",
            "Requirement already satisfied: cycler>=0.10 in /usr/local/lib/python3.10/dist-packages (from matplotlib) (0.12.1)\n",
            "Requirement already satisfied: fonttools>=4.22.0 in /usr/local/lib/python3.10/dist-packages (from matplotlib) (4.53.0)\n",
            "Requirement already satisfied: kiwisolver>=1.0.1 in /usr/local/lib/python3.10/dist-packages (from matplotlib) (1.4.5)\n",
            "Requirement already satisfied: numpy>=1.20 in /usr/local/lib/python3.10/dist-packages (from matplotlib) (1.25.2)\n",
            "Requirement already satisfied: packaging>=20.0 in /usr/local/lib/python3.10/dist-packages (from matplotlib) (24.0)\n",
            "Requirement already satisfied: pillow>=6.2.0 in /usr/local/lib/python3.10/dist-packages (from matplotlib) (9.4.0)\n",
            "Requirement already satisfied: pyparsing>=2.3.1 in /usr/local/lib/python3.10/dist-packages (from matplotlib) (3.1.2)\n",
            "Requirement already satisfied: python-dateutil>=2.7 in /usr/local/lib/python3.10/dist-packages (from matplotlib) (2.8.2)\n",
            "Requirement already satisfied: six>=1.5 in /usr/local/lib/python3.10/dist-packages (from python-dateutil>=2.7->matplotlib) (1.16.0)\n"
          ]
        }
      ]
    },
    {
      "cell_type": "markdown",
      "source": [
        "**Lista de Filas**\n",
        "\n",
        "**3)** Um comutador de pacotes recebe em média 200 pacotes/segundo, cada um com\n",
        "um comprimento médio de 128 bytes. O comutador possui uma única linha de\n",
        "saída com capacidade de 256 kbps. Considere um buffer com {1,5,10,15}\n",
        "posições na fila, qual a probabilidade de bloqueio, número médio de elementos e\n",
        "tempo médio no sistema?\n",
        "\n",
        "$ \\lambda = 200 $ pacotes/segundo\n",
        "\n",
        "\n",
        "$ E[t_s] = \\frac{1}{\\mu} = 128 * 8 / 256000 = 1/250 = 0,004 $ segundo\n",
        "\n",
        "$ \\rho = \\frac{\\lambda}{\\mu} = 200/250 = 0,8 $\n",
        "\n",
        "$ N = J + 1 =$ {2, 6, 11, 16}\n",
        "\n",
        "$ P_b = \\rho^N \\frac{1-\\rho}{1-\\rho^{N+1}} = $\\{0,26229508 0,06634165 0,01844758 0,00575918\\}\n",
        "\n",
        "$ E[q] = \\frac{\\rho}{1 - \\rho} - \\frac{(N+1)\\rho^{N+1}}{1 - \\rho^{N+1}} = $ \\{0,85245902 2,14243372 3,1145163  3,60837543\\} elementos\n",
        "\n",
        "$ E[t_q] = \\frac{E[q]}{(1-P_b)\\lambda} = $ \\{0,00577778 0,01147333 0,01586526 0,01814639\\} segundo\n",
        "\n",
        "**Solução por simulação**\n",
        "\n",
        "O código abaixo foi executado para J = {1,5,10,15}, obtendo os seguintes resultados:\n",
        "\n",
        "$ P_b = $\\{0,2689126 0,0678582 0,015886959 0,00576563\\}\n",
        "\n",
        "$ E[q] = $ \\{1,1729965 2,2905936 3,082494 3,5578339\\} elementos\n",
        "\n",
        "$ E[t_q] = $ \\{0,00586498 0,011452968 0,01541247 0,0177891696\\} segundo\n"
      ],
      "metadata": {
        "id": "0GKFORGeTw31"
      }
    },
    {
      "cell_type": "code",
      "execution_count": 21,
      "metadata": {
        "id": "q7OinFtJJexC",
        "outputId": "df492d50-9b7f-4516-9ee9-91d78529e1ac",
        "colab": {
          "base_uri": "https://localhost:8080/"
        }
      },
      "outputs": [
        {
          "output_type": "stream",
          "name": "stdout",
          "text": [
            "Prob Bloqueio Analítica: [0.26229508 0.06634165 0.01844758 0.00575918]\n",
            "Elementos no sistema (analítica): [0.85245902 2.14243372 3.1145163  3.60837543]\n",
            "Tempo no sistema (analítica): [0.00577778 0.01147333 0.01586526 0.01814639]\n",
            "fator de utilizacao rho: 0.8\n",
            "tempo no sistema: 0.017789169655368264\n",
            "tempo na fila: 0.013789169655368264\n",
            "numero medio de usuários no sistema: 3.557833931073653\n",
            "numero medio de usuários na fila: 2.7578339310736526\n",
            "probabilidade de bloqueios: 0.005765630849868963\n",
            "bloqueios: 231\n",
            "chegadas: 40065\n",
            "fila: 3\n",
            "entrada sv: 39831\n",
            "partidas: 39830\n"
          ]
        }
      ],
      "source": [
        "import numpy as np\n",
        "import matplotlib.pyplot as plt\n",
        "\n",
        "# Parâmetros\n",
        "\n",
        "lambda1=200 #chegadas/tempo - taxa media de chegada\n",
        "mu1=250 #partidas/tempo - taxa media de partida\n",
        "Nq=15 #tamanho da fila\n",
        "\n",
        "#cálculos auxiliares para solução analítica\n",
        "rho = lambda1 / mu1\n",
        "J = np.array([1, 5, 10, 15])\n",
        "N = J + 1\n",
        "rhoN = rho ** N\n",
        "rhoN1 = rho ** (N + 1)\n",
        "Pb = rhoN * (1-rho) / (1-rhoN1)\n",
        "\n",
        "print(f'Prob Bloqueio Analítica: {Pb}')\n",
        "\n",
        "Eq = rho / (1-rho) - (N+1) * rhoN1 / (1-rhoN1)\n",
        "\n",
        "print(f'Elementos no sistema (analítica): {Eq}')\n",
        "\n",
        "Etq = Eq / ((1-Pb) * lambda1)\n",
        "\n",
        "print(f'Tempo no sistema (analítica): {Etq}')\n",
        "\n",
        "t = 0 #tempo inicial\n",
        "lq = 0 #numero de usuários na fila\n",
        "ls = 1 #numero de usuários no servidor\n",
        "k1 = 1 #número de chegadas\n",
        "k2 = 1 #número de serviços\n",
        "k = 0 #numero de partidas\n",
        "b = 0 #numero de bloqueios\n",
        "\n",
        "TS=200 #tempo máximo de simulação\n",
        "\n",
        "def chegada():\n",
        "  return np.random.exponential(1/lambda1)\n",
        "\n",
        "def partida():\n",
        "  return np.random.exponential(1/mu1)\n",
        "\n",
        "tc = [0] #tempo de chegadas\n",
        "tp = [] #tempo de partidas\n",
        "ts = [] #tempo no sistema\n",
        "\n",
        "ta = t + chegada() #proxima chegada\n",
        "td = t + partida() #proxima partida\n",
        "t = np.minimum(ta, td) #proximo tempo de execucao\n",
        "\n",
        "while (t < TS): #tempo limite de simulacao\n",
        "\n",
        "    if ta<td: #evento de chegada\n",
        "        k1 = k1 + 1 #incrementa o número de chegadas\n",
        "        if lq < Nq:\n",
        "            lq = lq + 1 #aumenta a fila\n",
        "            tc = np.append(tc, t) #aramazena tempo atual de chegada\n",
        "            #print(f\"CF({lq})S({ls})T({t})\")\n",
        "        else:\n",
        "            b = b + 1 #incrementa o número de bloqueios\n",
        "            #print(f\"BF({lq})S({ls})T({t})\")\n",
        "        ta = t + chegada() #gera nova chegada\n",
        "\n",
        "    else: #evento de partida\n",
        "        k = k + 1 #incrementa o numero de partidas\n",
        "        tp = np.append(tp, t) #armazeno o tempo da partida\n",
        "        ts = np.append(ts, (tp[k - 1] - tc[k - 1])) #calculo o tempo no sistema\n",
        "        td = np.infty #coloco um valor muito grande para a proxima partida\n",
        "        ls = 0 #esvazio o servidor\n",
        "        #print(f\"PF({lq})S({ls})T({t})\")\n",
        "\n",
        "    if ls == 0 and lq > 0: #servidor desocupado e pacote na fila\n",
        "        lq = lq - 1\n",
        "        td = t + partida() #gera nova partida\n",
        "        k2 = k2 + 1\n",
        "        ls = 1 #ocupa o servidor\n",
        "        #print(f\"SF({lq})S({ls})T({t})\")\n",
        "\n",
        "    t = np.minimum(ta, td) #calculo o tempo minimo entre chegada e partida\n",
        "\n",
        "tw=np.mean(ts)-1/mu1\n",
        "eq=lambda1*np.mean(ts)\n",
        "ew=lambda1*tw\n",
        "rho=lambda1/mu1\n",
        "pb = b/k1\n",
        "\n",
        "print(f\"fator de utilizacao rho: {rho}\")\n",
        "print(f\"tempo no sistema: {np.mean(ts)}\")\n",
        "print(f\"tempo na fila: {tw}\")\n",
        "print(f\"numero medio de usuários no sistema: {eq}\")\n",
        "print(f\"numero medio de usuários na fila: {ew}\")\n",
        "print(f\"probabilidade de bloqueios: {pb}\")\n",
        "print(f\"bloqueios: {b}\")\n",
        "print(f\"chegadas: {k1}\")\n",
        "print(f\"fila: {lq}\")\n",
        "print(f\"entrada sv: {k2}\")\n",
        "print(f\"partidas: {k}\")"
      ]
    }
  ]
}