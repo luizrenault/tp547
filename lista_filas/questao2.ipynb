{
  "nbformat": 4,
  "nbformat_minor": 0,
  "metadata": {
    "colab": {
      "provenance": [],
      "include_colab_link": true
    },
    "kernelspec": {
      "name": "python3",
      "display_name": "Python 3"
    },
    "language_info": {
      "name": "python"
    }
  },
  "cells": [
    {
      "cell_type": "markdown",
      "metadata": {
        "id": "view-in-github",
        "colab_type": "text"
      },
      "source": [
        "<a href=\"https://colab.research.google.com/github/luizrenault/tp547/blob/main/lista_filas/questao2.ipynb\" target=\"_parent\"><img src=\"https://colab.research.google.com/assets/colab-badge.svg\" alt=\"Open In Colab\"/></a>"
      ]
    },
    {
      "cell_type": "code",
      "source": [
        "!pip install numpy\n",
        "!pip install matplotlib"
      ],
      "metadata": {
        "id": "EpHnMWG7JgvI",
        "outputId": "a47f649b-c11c-47a4-b95a-4b5bd5872895",
        "colab": {
          "base_uri": "https://localhost:8080/"
        }
      },
      "execution_count": null,
      "outputs": [
        {
          "output_type": "stream",
          "name": "stdout",
          "text": [
            "Requirement already satisfied: numpy in /usr/local/lib/python3.10/dist-packages (1.25.2)\n",
            "Requirement already satisfied: matplotlib in /usr/local/lib/python3.10/dist-packages (3.7.1)\n",
            "Requirement already satisfied: contourpy>=1.0.1 in /usr/local/lib/python3.10/dist-packages (from matplotlib) (1.2.1)\n",
            "Requirement already satisfied: cycler>=0.10 in /usr/local/lib/python3.10/dist-packages (from matplotlib) (0.12.1)\n",
            "Requirement already satisfied: fonttools>=4.22.0 in /usr/local/lib/python3.10/dist-packages (from matplotlib) (4.53.0)\n",
            "Requirement already satisfied: kiwisolver>=1.0.1 in /usr/local/lib/python3.10/dist-packages (from matplotlib) (1.4.5)\n",
            "Requirement already satisfied: numpy>=1.20 in /usr/local/lib/python3.10/dist-packages (from matplotlib) (1.25.2)\n",
            "Requirement already satisfied: packaging>=20.0 in /usr/local/lib/python3.10/dist-packages (from matplotlib) (24.0)\n",
            "Requirement already satisfied: pillow>=6.2.0 in /usr/local/lib/python3.10/dist-packages (from matplotlib) (9.4.0)\n",
            "Requirement already satisfied: pyparsing>=2.3.1 in /usr/local/lib/python3.10/dist-packages (from matplotlib) (3.1.2)\n",
            "Requirement already satisfied: python-dateutil>=2.7 in /usr/local/lib/python3.10/dist-packages (from matplotlib) (2.8.2)\n",
            "Requirement already satisfied: six>=1.5 in /usr/local/lib/python3.10/dist-packages (from python-dateutil>=2.7->matplotlib) (1.16.0)\n"
          ]
        }
      ]
    },
    {
      "cell_type": "markdown",
      "source": [
        "**Lista de Filas**\n",
        "\n",
        "**2)** Um comutador de pacotes possui uma linha de saída e recebe, em média, 40 pacotes por segundo. Cada pacote tem, em média, 5.000 bits de comprimento,\n",
        "com distribuição exponencial. A linha de saída do comutador tem taxa de 500\n",
        "kbps.  \n",
        "\n",
        "**a)** Qual é o tempo médio de permanência de um pacote no comutador (esperando\n",
        "na fila e sendo transmitido)?  \n",
        "\n",
        "$ \\lambda = 40 $ pacotes/segundo\n",
        "\n",
        "$ E[t_s] = \\frac{1}{\\mu} = 5000 / 500000 = 1/100 = 0,01 $ segundo\n",
        "\n",
        "$ E[t_q] = \\frac{1}{\\mu - \\lambda}$ = \\frac{1}{100 - 40} = 1/60 = 0,016667\n",
        "\n",
        "Solução por simulação abaixo.\n",
        "\n",
        "**b)** Qual é o tempo médio de espera na fila?\n",
        "\n",
        "$ E[t_w] = E[t_q] - E[t_s] = 0,01667 - 0,01 = 0,00667 $ segundo\n",
        "\n",
        "Solução por simulação abaixo.\n"
      ],
      "metadata": {
        "id": "0GKFORGeTw31"
      }
    },
    {
      "cell_type": "code",
      "execution_count": 6,
      "metadata": {
        "id": "q7OinFtJJexC",
        "outputId": "59fce324-c5d4-4d08-eebc-2a44dc10a705",
        "colab": {
          "base_uri": "https://localhost:8080/"
        }
      },
      "outputs": [
        {
          "output_type": "stream",
          "name": "stdout",
          "text": [
            "fator de utilizacao rho: 0.4\n",
            "tempo no sistema: 0.016766139326329813\n",
            "tempo na fila: 0.006766139326329813\n",
            "numero medio de usuários no sistema: 0.6706455730531925\n",
            "numero medio de usuários na fila: 0.27064557305319253\n",
            "probabilidade de bloqueios: 0.0\n",
            "bloqueios: 0\n",
            "chegadas: 39819\n",
            "fila: 0\n",
            "entrada sv: 39819\n",
            "partidas: 39819\n"
          ]
        }
      ],
      "source": [
        "import numpy as np\n",
        "import matplotlib.pyplot as plt\n",
        "\n",
        "# Parâmetros\n",
        "\n",
        "lambda1=40 #chegadas/tempo - taxa media de chegada\n",
        "mu1=100 #partidas/tempo - taxa media de partida\n",
        "Nq=np.infty #tamanho da fila\n",
        "\n",
        "\n",
        "t = 0 #tempo inicial\n",
        "lq = 0 #numero de usuários na fila\n",
        "ls = 1 #numero de usuários no servidor\n",
        "k1 = 1 #número de chegadas\n",
        "k2 = 1 #número de serviços\n",
        "k = 0 #numero de partidas\n",
        "b = 0 #numero de bloqueios\n",
        "\n",
        "TS=1000 #tempo máximo de simulação\n",
        "\n",
        "def chegada():\n",
        "  return np.random.exponential(1/lambda1)\n",
        "\n",
        "def partida():\n",
        "  return np.random.exponential(1/mu1)\n",
        "\n",
        "tc = [0] #tempo de chegadas\n",
        "tp = [] #tempo de partidas\n",
        "ts = [] #tempo no sistema\n",
        "\n",
        "ta = t + chegada() #proxima chegada\n",
        "td = t + partida() #proxima partida\n",
        "t = np.minimum(ta, td) #proximo tempo de execucao\n",
        "\n",
        "while (t < TS): #tempo limite de simulacao\n",
        "\n",
        "    if ta<td: #evento de chegada\n",
        "        k1 = k1 + 1 #incrementa o número de chegadas\n",
        "        if lq < Nq:\n",
        "            lq = lq + 1 #aumenta a fila\n",
        "            tc = np.append(tc, t) #aramazena tempo atual de chegada\n",
        "            #print(f\"CF({lq})S({ls})T({t})\")\n",
        "        else:\n",
        "            b = b + 1 #incrementa o número de bloqueios\n",
        "            #print(f\"BF({lq})S({ls})T({t})\")\n",
        "        ta = t + chegada() #gera nova chegada\n",
        "\n",
        "    else: #evento de partida\n",
        "        k = k + 1 #incrementa o numero de partidas\n",
        "        tp = np.append(tp, t) #armazeno o tempo da partida\n",
        "        ts = np.append(ts, (tp[k - 1] - tc[k - 1])) #calculo o tempo no sistema\n",
        "        td = np.infty #coloco um valor muito grande para a proxima partida\n",
        "        ls = 0 #esvazio o servidor\n",
        "        #print(f\"PF({lq})S({ls})T({t})\")\n",
        "\n",
        "    if ls == 0 and lq > 0: #servidor desocupado e pacote na fila\n",
        "        lq = lq - 1\n",
        "        td = t + partida() #gera nova partida\n",
        "        k2 = k2 + 1\n",
        "        ls = 1 #ocupa o servidor\n",
        "        #print(f\"SF({lq})S({ls})T({t})\")\n",
        "\n",
        "    t = np.minimum(ta, td) #calculo o tempo minimo entre chegada e partida\n",
        "\n",
        "tw=np.mean(ts)-1/mu1\n",
        "eq=lambda1*np.mean(ts)\n",
        "ew=lambda1*tw\n",
        "rho=lambda1/mu1\n",
        "pb = b/k1\n",
        "\n",
        "print(f\"fator de utilizacao rho: {rho}\")\n",
        "print(f\"tempo no sistema: {np.mean(ts)}\")\n",
        "print(f\"tempo na fila: {tw}\")\n",
        "print(f\"numero medio de usuários no sistema: {eq}\")\n",
        "print(f\"numero medio de usuários na fila: {ew}\")\n",
        "print(f\"probabilidade de bloqueios: {pb}\")\n",
        "print(f\"bloqueios: {b}\")\n",
        "print(f\"chegadas: {k1}\")\n",
        "print(f\"fila: {lq}\")\n",
        "print(f\"entrada sv: {k2}\")\n",
        "print(f\"partidas: {k}\")"
      ]
    }
  ]
}