import numpy as np
import matplotlib.pyplot as plt


q=0.15 #Probabilidade de acerto
n=8 #Número de tentativas
N=1000000 #Número de amostras
c = q/(1-q)
av=np.array([i for i in range(0,n+1)])
count=np.array([0 for i in range(0,n+1)])

for ii in range(1,N):
    ix=np.random.uniform(0,1)
    i = 0
    pr = pow((1 - q),n)
    F = pr
    while ix>=F:
        pr = (c * (n - i) / (i + 1))* pr;
        F = F + pr;
        i = i + 1;
    a1=i
    count = count + (av==i)

prob1=sum(np.multiply(av<=2, count))/N
prob2=sum(np.multiply(av>=6, count))/N
print("item a:",prob1)
print("item b:",prob2)

print(count)
print(av)

plt.bar(av,count/N)
plt.show()
#Código simplificado para rodar mais rápido (e com economia de memória)
