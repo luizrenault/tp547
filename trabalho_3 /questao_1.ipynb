{
  "nbformat": 4,
  "nbformat_minor": 0,
  "metadata": {
    "colab": {
      "provenance": [],
      "authorship_tag": "ABX9TyMd7TjAV+gGF0aSOfLg+nJ+",
      "include_colab_link": true
    },
    "kernelspec": {
      "name": "python3",
      "display_name": "Python 3"
    },
    "language_info": {
      "name": "python"
    }
  },
  "cells": [
    {
      "cell_type": "markdown",
      "metadata": {
        "id": "view-in-github",
        "colab_type": "text"
      },
      "source": [
        "<a href=\"https://colab.research.google.com/github/luizrenault/tp547/blob/main/trabalho_3%20/questao_1.ipynb\" target=\"_parent\"><img src=\"https://colab.research.google.com/assets/colab-badge.svg\" alt=\"Open In Colab\"/></a>"
      ]
    },
    {
      "cell_type": "code",
      "execution_count": 53,
      "metadata": {
        "colab": {
          "base_uri": "https://localhost:8080/"
        },
        "id": "9cPt34vG9Wor",
        "outputId": "29233e5d-d7f4-4ba9-efad-57ab6bb0e957"
      },
      "outputs": [
        {
          "output_type": "stream",
          "name": "stdout",
          "text": [
            "1 questão: c) a probabilidade analítica é: 0.2222222222222222\n",
            "1 questão: c) a probabilidade calculada por simulação é: 0.22\n",
            "1 questao: d) o número médio de passos para absorção é: 9.7606\n"
          ]
        }
      ],
      "source": [
        "import numpy as np\n",
        "from numpy.linalg import matrix_power\n",
        "\n",
        "pi = np.array([1, 0, 0, 0, 0, 0])\n",
        "\n",
        "M=np.array([[0, 1/2, 1/2, 0, 0, 0],\n",
        "   [1/2, 0, 0, 1/2, 0, 0],\n",
        "   [1/3, 0, 0, 1/3, 1/3, 0],\n",
        "   [0, 1/3, 1/3, 0, 0, 1/3],\n",
        "   [0, 0, 1/2, 0, 0, 1/2],\n",
        "   [0, 0, 0, 0, 0, 1]])\n",
        "\n",
        "p=np.dot(pi, matrix_power(M,3))\n",
        "\n",
        "print(f\"1 questão: c) a probabilidade analítica é: {p[5]}\")\n",
        "\n",
        "def transicao(distribuicao):\n",
        "    acumulada = np.cumsum(distribuicao)\n",
        "    r = np.random.uniform(0, 1)\n",
        "    return np.argmax(acumulada > r)\n",
        "\n",
        "n=3\n",
        "m=10000\n",
        "\n",
        "estados = np.zeros(n+1, int)\n",
        "estados[0]=0\n",
        "\n",
        "estados_finais = np.zeros(m, int)\n",
        "\n",
        "transicoes = np.zeros(m, int)\n",
        "\n",
        "for k in np.arange(0,m,1):\n",
        "  for j in np.arange(1, n+1, 1):\n",
        "      estados[j]=transicao(M[estados[j-1]])\n",
        "  estados_finais[k]=estados[n]\n",
        "\n",
        "p=sum(estados_finais==5)/m\n",
        "\n",
        "print(f\"1 questão: c) a probabilidade calculada por simulação é: {p}\")\n",
        "\n",
        "\n",
        "###################\n",
        "\n",
        "for k in np.arange(0,m,1):\n",
        "  estado = 0\n",
        "  j=0\n",
        "  while(estado!=5):\n",
        "    estado = transicao(M[estado])\n",
        "    j = j + 1\n",
        "\n",
        "  transicoes[k]=j\n",
        "\n",
        "print(f\"1 questao: d) o número médio de passos para absorção é: {np.mean(transicoes)}\")"
      ]
    }
  ]
}